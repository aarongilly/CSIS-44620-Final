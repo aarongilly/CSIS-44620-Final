{
 "cells": [
  {
   "cell_type": "markdown",
   "metadata": {},
   "source": [
    "# Web Mining and Applied NLP (44-620)\n",
    "\n",
    "## Final Project: Article Summarizer\n",
    "\n",
    "### Student Name: Aaron Gillespie\n",
    "\n",
    "For this final, I am to demonstrate capabilities & proficiencies in web scraping and natrual language processing using Python. I will be scraping data from the web, saving it locally, running a sentiment analysis and generating a summary of an article from the web. The assignment is open-ended, and thus **I've chosen to continue with what's become my signature move/tradition & pointing my newfound coding capabilities toward one of my giant long-running projects to see what I can learn about myself**. In particular, I'll be analyzing (at least) one of my entries from [my personal blog](https://aarongilly.com/Columns).\n"
   ]
  },
  {
   "cell_type": "markdown",
   "metadata": {},
   "source": [
    "# Imports"
   ]
  },
  {
   "cell_type": "code",
   "execution_count": 71,
   "metadata": {},
   "outputs": [
    {
     "name": "stdout",
     "output_type": "stream",
     "text": [
      "Package                   Version\n",
      "------------------------- --------------\n",
      "annotated-types           0.7.0\n",
      "anyio                     4.10.0\n",
      "appnope                   0.1.4\n",
      "argon2-cffi               25.1.0\n",
      "argon2-cffi-bindings      25.1.0\n",
      "arrow                     1.3.0\n",
      "asttokens                 3.0.0\n",
      "async-lru                 2.0.5\n",
      "attrs                     25.3.0\n",
      "babel                     2.17.0\n",
      "beautifulsoup4            4.13.4\n",
      "bleach                    6.2.0\n",
      "blis                      1.3.0\n",
      "catalogue                 2.0.10\n",
      "certifi                   2025.8.3\n",
      "cffi                      1.17.1\n",
      "charset-normalizer        3.4.2\n",
      "click                     8.2.1\n",
      "cloudpathlib              0.21.1\n",
      "comm                      0.2.3\n",
      "confection                0.1.5\n",
      "contourpy                 1.3.3\n",
      "cycler                    0.12.1\n",
      "cymem                     2.0.11\n",
      "debugpy                   1.8.15\n",
      "decorator                 5.2.1\n",
      "defusedxml                0.7.1\n",
      "en_core_web_sm            3.8.0\n",
      "executing                 2.2.0\n",
      "fastjsonschema            2.21.1\n",
      "fonttools                 4.59.0\n",
      "fqdn                      1.5.1\n",
      "h11                       0.16.0\n",
      "httpcore                  1.0.9\n",
      "httpx                     0.28.1\n",
      "idna                      3.10\n",
      "ipykernel                 6.30.1\n",
      "ipynb                     0.5.1\n",
      "ipython                   9.4.0\n",
      "ipython_pygments_lexers   1.1.1\n",
      "isoduration               20.11.0\n",
      "jedi                      0.19.2\n",
      "Jinja2                    3.1.6\n",
      "joblib                    1.5.1\n",
      "json5                     0.12.0\n",
      "jsonpointer               3.0.0\n",
      "jsonschema                4.25.0\n",
      "jsonschema-specifications 2025.4.1\n",
      "jupyter_client            8.6.3\n",
      "jupyter_core              5.8.1\n",
      "jupyter-events            0.12.0\n",
      "jupyter-lsp               2.2.6\n",
      "jupyter_server            2.16.0\n",
      "jupyter_server_terminals  0.5.3\n",
      "jupyterlab                4.4.5\n",
      "jupyterlab_pygments       0.3.0\n",
      "jupyterlab_server         2.27.3\n",
      "kiwisolver                1.4.8\n",
      "langcodes                 3.5.0\n",
      "language_data             1.3.0\n",
      "lark                      1.2.2\n",
      "marisa-trie               1.2.1\n",
      "markdown-it-py            3.0.0\n",
      "MarkupSafe                3.0.2\n",
      "matplotlib                3.10.5\n",
      "matplotlib-inline         0.1.7\n",
      "mdurl                     0.1.2\n",
      "mistune                   3.1.3\n",
      "murmurhash                1.0.13\n",
      "nbclient                  0.10.2\n",
      "nbconvert                 7.16.6\n",
      "nbformat                  5.10.4\n",
      "nest-asyncio              1.6.0\n",
      "nltk                      3.9.1\n",
      "notebook_shim             0.2.4\n",
      "numpy                     2.3.2\n",
      "overrides                 7.7.0\n",
      "packaging                 25.0\n",
      "pandas                    2.3.1\n",
      "pandocfilters             1.5.1\n",
      "parso                     0.8.4\n",
      "pexpect                   4.9.0\n",
      "pillow                    11.3.0\n",
      "pip                       25.2\n",
      "platformdirs              4.3.8\n",
      "preshed                   3.0.10\n",
      "prometheus_client         0.22.1\n",
      "prompt_toolkit            3.0.51\n",
      "psutil                    7.0.0\n",
      "ptyprocess                0.7.0\n",
      "pure_eval                 0.2.3\n",
      "pycparser                 2.22\n",
      "pydantic                  2.11.7\n",
      "pydantic_core             2.33.2\n",
      "Pygments                  2.19.2\n",
      "pyparsing                 3.2.3\n",
      "python-dateutil           2.9.0.post0\n",
      "python-json-logger        3.3.0\n",
      "pytz                      2025.2\n",
      "PyYAML                    6.0.2\n",
      "pyzmq                     27.0.1\n",
      "referencing               0.36.2\n",
      "regex                     2025.7.34\n",
      "requests                  2.32.4\n",
      "rfc3339-validator         0.1.4\n",
      "rfc3986-validator         0.1.1\n",
      "rfc3987-syntax            1.1.0\n",
      "rich                      14.1.0\n",
      "rpds-py                   0.26.0\n",
      "Send2Trash                1.8.3\n",
      "setuptools                80.9.0\n",
      "shellingham               1.5.4\n",
      "six                       1.17.0\n",
      "smart_open                7.3.0.post1\n",
      "sniffio                   1.3.1\n",
      "soupsieve                 2.7\n",
      "spacy                     3.8.7\n",
      "spacy-legacy              3.0.12\n",
      "spacy-loggers             1.0.5\n",
      "spacytextblob             5.0.0\n",
      "srsly                     2.5.1\n",
      "stack-data                0.6.3\n",
      "terminado                 0.18.1\n",
      "textblob                  0.19.0\n",
      "thinc                     8.3.6\n",
      "tinycss2                  1.4.0\n",
      "tornado                   6.5.1\n",
      "tqdm                      4.67.1\n",
      "traitlets                 5.14.3\n",
      "typer                     0.16.0\n",
      "types-python-dateutil     2.9.0.20250708\n",
      "typing_extensions         4.14.1\n",
      "typing-inspection         0.4.1\n",
      "tzdata                    2025.2\n",
      "uri-template              1.3.0\n",
      "urllib3                   2.5.0\n",
      "wasabi                    1.1.3\n",
      "wcwidth                   0.2.13\n",
      "weasel                    0.4.1\n",
      "webcolors                 24.11.1\n",
      "webencodings              0.5.1\n",
      "websocket-client          1.8.0\n",
      "wrapt                     1.17.2\n",
      "Collecting en-core-web-sm==3.8.0\n",
      "  Downloading https://github.com/explosion/spacy-models/releases/download/en_core_web_sm-3.8.0/en_core_web_sm-3.8.0-py3-none-any.whl (12.8 MB)\n",
      "\u001b[2K     \u001b[90m━━━━━━━━━━━━━━━━━━━━━━━━━━━━━━━━━━━━━━━━\u001b[0m \u001b[32m12.8/12.8 MB\u001b[0m \u001b[31m31.8 MB/s\u001b[0m  \u001b[33m0:00:00\u001b[0m eta \u001b[36m0:00:01\u001b[0m\n",
      "\u001b[?25h\u001b[38;5;2m✔ Download and installation successful\u001b[0m\n",
      "You can now load the package via spacy.load('en_core_web_sm')\n",
      "All prereqs installed.\n"
     ]
    }
   ],
   "source": [
    "from collections import Counter\n",
    "import pickle\n",
    "import requests\n",
    "import spacy\n",
    "from spacy.tokens import Doc\n",
    "\n",
    "from spacytextblob.spacytextblob import SpacyTextBlob\n",
    "from bs4 import BeautifulSoup\n",
    "import matplotlib.pyplot as plt\n",
    "\n",
    "!pip list\n",
    "\n",
    "!python -m spacy download en_core_web_sm\n",
    "\n",
    "print('All prereqs installed.')"
   ]
  },
  {
   "cell_type": "markdown",
   "metadata": {},
   "source": [
    "## Question 1\n",
    "\n",
    "1. Find on the internet an article or blog post about a topic that interests you and you are able to get the text for using the technologies we have applied in the course.  Get the html for the article and store it in a file (which you must submit with your project)"
   ]
  },
  {
   "cell_type": "code",
   "execution_count": 72,
   "metadata": {},
   "outputs": [
    {
     "name": "stdout",
     "output_type": "stream",
     "text": [
      "Article fetched successfully.\n",
      "\n",
      "#83 - One Week TrackedThe ColumnAaron GillespieHusband. Father. Writer. Puzzle maker. Engineer. Purveyor of bad jokes.SubscribeLawrence, KSMy NotesMovie PodcastPuzzle BoxesGitHubExplorerPagesCreationsWrapper LibraryWorkbenchesWe Scene a Movie (og)We Scene a MovieThe VaultShieldSemantic Canvas 1.2Se\n"
     ]
    }
   ],
   "source": [
    "# Function to fetch and parse the webpage\n",
    "def fetch_webpage(url):\n",
    "    response = requests.get(url)\n",
    "    if response.status_code == 200:\n",
    "        soup = BeautifulSoup(response.content, 'html.parser')\n",
    "        return soup\n",
    "    else:\n",
    "        print(f\"Failed to retrieve webpage: {response.status_code}\")\n",
    "        return None\n",
    "\n",
    "article_url = \"https://aarongilly.com/Columns/83\"\n",
    "\n",
    "article_soup = fetch_webpage(article_url)\n",
    "print(\"Article fetched successfully.\")\n",
    "print(article_soup.get_text()[:300])\n"
   ]
  },
  {
   "cell_type": "code",
   "execution_count": 73,
   "metadata": {},
   "outputs": [
    {
     "name": "stdout",
     "output_type": "stream",
     "text": [
      "Article HTML saved to Column_83.html.\n"
     ]
    }
   ],
   "source": [
    "# Save the article HTML to a file\n",
    "with open(\"Column_83.html\", \"w\", encoding=\"utf-8\") as f:\n",
    "    f.write(str(article_soup))\n",
    "print(\"Article HTML saved to Column_83.html.\")"
   ]
  },
  {
   "cell_type": "markdown",
   "metadata": {},
   "source": [
    "## Question 2\n",
    "\n",
    "2. Read in your article's html source from the file you created in question 1 and do sentiment analysis on the article/post's text (use `.get_text()`).  Print the polarity score with an appropriate label.  Additionally print the number of sentences in the original article (with an appropriate label)"
   ]
  },
  {
   "cell_type": "code",
   "execution_count": 74,
   "metadata": {},
   "outputs": [
    {
     "name": "stdout",
     "output_type": "stream",
     "text": [
      "Pipeline components: ['tok2vec', 'tagger', 'parser', 'attribute_ruler', 'lemmatizer', 'ner', 'spacytextblob']\n",
      "\n",
      "Polarity: 0.05\n",
      "Subjectivity: 0.45\n"
     ]
    }
   ],
   "source": [
    "# Load model\n",
    "nlp = spacy.load(\"en_core_web_sm\")\n",
    "\n",
    "# Build pipeline\n",
    "if \"spacytextblob\" not in nlp.pipe_names:\n",
    "    nlp.add_pipe(\"spacytextblob\", last=True)\n",
    "\n",
    "# Print pipeline components\n",
    "print(\"Pipeline components:\", nlp.pipe_names)\n",
    "\n",
    "# Manually register the extensions \n",
    "if not Doc.has_extension(\"polarity\"):\n",
    "    Doc.set_extension(\"polarity\", getter=lambda doc: doc._.blob.polarity)\n",
    "if not Doc.has_extension(\"subjectivity\"):\n",
    "    Doc.set_extension(\"subjectivity\", getter=lambda doc: doc._.blob.subjectivity)\n",
    "\n",
    "# Load article from file\n",
    "with open(\"Column_83.html\", \"r\", encoding=\"utf-8\") as f:\n",
    "    article_html = f.read()\n",
    "\n",
    "# Extract the contents of the article\n",
    "article_soup = BeautifulSoup(article_html, 'html.parser')\n",
    "# Extract only the text within the <article> tag\n",
    "article_tag = article_soup.find(\"article\")\n",
    "if article_tag:\n",
    "    article_text = article_tag.get_text()\n",
    "else:\n",
    "    article_text = \"\"\n",
    "\n",
    "# Run pipeline\n",
    "doc = nlp(article_text)\n",
    "\n",
    "# Access registered attributes and round results\n",
    "polarity = round(doc._.polarity, 2)\n",
    "subjectivity = round(doc._.subjectivity, 2)\n",
    "\n",
    "# Print results\n",
    "print(\"\\nPolarity:\", polarity)\n",
    "print(\"Subjectivity:\", subjectivity)"
   ]
  },
  {
   "cell_type": "code",
   "execution_count": 75,
   "metadata": {},
   "outputs": [
    {
     "name": "stdout",
     "output_type": "stream",
     "text": [
      "Number of sentences in the article: 62\n"
     ]
    }
   ],
   "source": [
    "print(\"Number of sentences in the article:\", len(list(nlp(article_text).sents)))"
   ]
  },
  {
   "cell_type": "markdown",
   "metadata": {},
   "source": [
    "## Question 3\n",
    "\n",
    "3. Load the article text into a trained `spaCy` pipeline, and determine the 5 most frequent tokens (converted to lower case).  Print the common tokens with an appropriate label.  Additionally, print the tokens their frequencies (with appropriate labels)"
   ]
  },
  {
   "cell_type": "code",
   "execution_count": 76,
   "metadata": {},
   "outputs": [
    {
     "name": "stdout",
     "output_type": "stream",
     "text": [
      "Five most frequent tokens (lowercase):\n",
      "Token: 'i', Frequency: 45\n",
      "Token: 'the', Frequency: 35\n",
      "Token: 'to', Frequency: 31\n",
      "Token: 'a', Frequency: 26\n",
      "Token: 'of', Frequency: 25\n"
     ]
    }
   ],
   "source": [
    "# Get all tokens (lowercase, exclude punctuation and spaces)\n",
    "tokens = [token.text.lower() for token in doc if not token.is_punct and not token.is_space]\n",
    "\n",
    "# Count token frequencies\n",
    "token_freq = Counter(tokens)\n",
    "\n",
    "# Get the five most common tokens\n",
    "most_common_tokens = token_freq.most_common(5)\n",
    "\n",
    "# Print results\n",
    "print(\"Five most frequent tokens (lowercase):\")\n",
    "for token, freq in most_common_tokens:\n",
    "    print(f\"Token: '{token}', Frequency: {freq}\")"
   ]
  },
  {
   "cell_type": "markdown",
   "metadata": {},
   "source": [
    "...what boring tokens. I forgot to filter out things."
   ]
  },
  {
   "cell_type": "code",
   "execution_count": 77,
   "metadata": {},
   "outputs": [
    {
     "name": "stdout",
     "output_type": "stream",
     "text": [
      "Five most frequent tokens (excluding stop words):\n",
      "Token: 'life', Frequency: 10\n",
      "Token: 'data', Frequency: 9\n",
      "Token: 'things', Frequency: 8\n",
      "Token: 'week', Frequency: 6\n",
      "Token: 'day', Frequency: 5\n"
     ]
    },
    {
     "data": {
      "image/png": "[encoded data removed]",
      "text/plain": [
       "<Figure size 800x500 with 1 Axes>"
      ]
     },
     "metadata": {},
     "output_type": "display_data"
    }
   ],
   "source": [
    "# Get all tokens (lowercase, exclude punctuation, spaces, and stop words)\n",
    "filtered_tokens = [\n",
    "    token.text.lower()\n",
    "    for token in doc\n",
    "    if not token.is_punct and not token.is_space and not token.is_stop\n",
    "]\n",
    "\n",
    "# Count token frequencies\n",
    "filtered_token_freq = Counter(filtered_tokens)\n",
    "\n",
    "# Get the five most common tokens\n",
    "filtered_most_common_tokens = filtered_token_freq.most_common(5)\n",
    "\n",
    "# Print results\n",
    "print(\"Five most frequent tokens (excluding stop words):\")\n",
    "for token, freq in filtered_most_common_tokens:\n",
    "    print(f\"Token: '{token}', Frequency: {freq}\")\n",
    "\n",
    "# Plot a bar chart of the five most frequent tokens (excluding stop words)\n",
    "labels, counts = zip(*filtered_most_common_tokens)\n",
    "plt.figure(figsize=(8, 5))\n",
    "plt.bar(labels, counts, color='skyblue')\n",
    "plt.title(\"Top 5 Most Frequent Tokens (Excluding Stop Words)\")\n",
    "plt.xlabel(\"Token\")\n",
    "plt.ylabel(\"Frequency\")\n",
    "plt.show()"
   ]
  },
  {
   "cell_type": "markdown",
   "metadata": {},
   "source": [
    "...much better. Also appropriate. Sounds about right. I write about life, data, and things... and this was an analysis of time. So yup. Tracks."
   ]
  },
  {
   "cell_type": "markdown",
   "metadata": {},
   "source": [
    "## Question 4 \n",
    "\n",
    "4. Load the article text into a trained `spaCy` pipeline, and determine the 5 most frequent lemmas (converted to lower case).  Print the common lemmas with an appropriate label.  Additionally, print the lemmas with their frequencies (with appropriate labels)."
   ]
  },
  {
   "cell_type": "code",
   "execution_count": 78,
   "metadata": {},
   "outputs": [
    {
     "name": "stdout",
     "output_type": "stream",
     "text": [
      "Five most frequent lemmas (excluding stop words):\n",
      "Lemma: 'life', Frequency: 10\n",
      "Lemma: 'day', Frequency: 8\n",
      "Lemma: 'thing', Frequency: 8\n",
      "Lemma: 'week', Frequency: 8\n",
      "Lemma: 'summary', Frequency: 7\n"
     ]
    }
   ],
   "source": [
    "# Get all lemmas (lowercase, exclude punctuation, spaces, and stop words)\n",
    "filtered_lemmas = [\n",
    "    token.lemma_.lower()\n",
    "    for token in doc\n",
    "    if not token.is_punct and not token.is_space and not token.is_stop\n",
    "]\n",
    "\n",
    "# Count lemma frequencies\n",
    "filtered_lemma_freq = Counter(filtered_lemmas)\n",
    "\n",
    "# Get the five most common lemmas\n",
    "filtered_most_common_lemmas = filtered_lemma_freq.most_common(5)\n",
    "\n",
    "# Print results\n",
    "print(\"Five most frequent lemmas (excluding stop words):\")\n",
    "for lemma, freq in filtered_most_common_lemmas:\n",
    "    print(f\"Lemma: '{lemma}', Frequency: {freq}\")"
   ]
  },
  {
   "cell_type": "markdown",
   "metadata": {},
   "source": [
    "## Question 5 \n",
    "\n",
    "5. Make a list containing the scores (using tokens) of every sentence in the article, and plot a histogram with appropriate titles and axis labels of the scores. From your histogram, what seems to be the most common range of scores (put the answer in a comment after your code)?\n",
    "\n",
    "Re-using my code from a previous module here."
   ]
  },
  {
   "cell_type": "code",
   "execution_count": null,
   "metadata": {},
   "outputs": [
    {
     "name": "stdout",
     "output_type": "stream",
     "text": [
      "Most common tokens:\n",
      "Token: life, Frequency: 10\n",
      "Token: data, Frequency: 9\n",
      "Token: things, Frequency: 8\n",
      "Token: week, Frequency: 6\n",
      "Token: day, Frequency: 5\n"
     ]
    }
   ],
   "source": [
    "# Define a function to be more explicit about which tokens we care about\n",
    "def is_character_we_care_about(token):\n",
    "    return not token.is_stop and not token.is_punct and not token.is_space\n",
    "\n",
    "# Count the frequency of tokens, excluding stop words and punctuation\n",
    "token_freq = Counter(token.text.lower() for token in doc if is_character_we_care_about(token))\n",
    "\n",
    "# Get the 5 most common tokens\n",
    "common_tokens = token_freq.most_common(5)\n",
    "\n",
    "# Get the 5 most common lemmas\n",
    "lemma_freq = Counter(token.lemma_.lower() for token in doc if not token.is_stop and not token.is_punct and not token.is_space)\n",
    "common_lemmas = lemma_freq.most_common(5)   \n",
    "\n",
    "# Print the common tokens with their frequencies\n",
    "print(\"Most common tokens:\")\n",
    "for token, freq in common_tokens:\n",
    "    print(f\"Token: {token}, Frequency: {freq}\") \n",
    "\n",
    "# Define functions to score sentences based on tokens\n",
    "def score_sentence_by_token(sentence, interesting_tokens):\n",
    "    \"\"\"Score a sentence based on the presence of interesting tokens.\"\"\"\n",
    "    words = [token.text.lower() for token in nlp(sentence) if not token.is_stop and not token.is_punct and not token.is_space]\n",
    "    if not words:\n",
    "        return 0\n",
    "    return sum(1 for word in words if word in interesting_tokens) / len(words)\n",
    "\n",
    "# Define functions to score sentences based on lemmas\n",
    "def score_sentence_by_lemma(sentence, interesting_lemmas):\n",
    "    \"\"\"Score a sentence based on the presence of interesting lemmas.\"\"\"\n",
    "    words = [token.lemma_.lower() for token in nlp(sentence) if not token.is_stop and not token.is_punct and not token.is_space]\n",
    "    if not words:\n",
    "        return 0\n",
    "    return sum(1 for word in words if word in interesting_lemmas) / len(words)\n",
    "interesting_tokens = [token for token, _ in common_tokens]\n",
    "interesting_lemmas = [lemma for lemma, _ in common_lemmas]\n",
    "\n",
    "# Calculate the interesting tokens and lemmas\n",
    "article_sentences = [sent.text for sent in doc.sents]\n",
    "print(f\"Number of sentences in the article: {len(article_sentences)}\\n\")\n",
    "\n",
    "# Initialize lists to store scores\n",
    "sentence_token_scores = []\n",
    "sentence_lemma_scores = []\n",
    "\n",
    "# Score each sentence and store the results\n",
    "for sentence in article_sentences:\n",
    "    token_score = score_sentence_by_token(sentence, interesting_tokens)\n",
    "    lemma_score = score_sentence_by_lemma(sentence, interesting_lemmas)\n",
    "    sentence_token_scores.append(token_score)\n",
    "    sentence_lemma_scores.append(lemma_score)\n",
    "\n",
    "    print(f\"Sentence: {sentence}\")\n",
    "    print(f\"Token Score: {token_score:.2f}, Lemma Score: {lemma_score:.2f}\\n\")\n",
    "\n",
    "# Plot histogram for token scores\n",
    "plt.figure(figsize=(8, 5))\n",
    "plt.hist(sentence_token_scores, bins=20, color='skyblue', edgecolor='black')\n",
    "plt.title(\"Histogram of Sentence Token Scores\")\n",
    "plt.xlabel(\"Token Score\")\n",
    "plt.ylabel(\"Number of Sentences\")\n",
    "plt.show()\n",
    "\n",
    "# The most common range of scores appears to be between 0.0 and 0.1 for both token and lemma scores, as indicated by the peaks in the histograms.\n",
    "# This suggests that many sentences have low scores, possibly due to the presence of common words or phrases that do not contribute significantly to the overall sentiment or meaning of the article.\n",
    "# Which means I use too many words to say too little.\n"
   ]
  },
  {
   "cell_type": "markdown",
   "metadata": {},
   "source": [
    "## Question 6\n",
    "\n",
    "6. Make a list containing the scores (using lemmas) of every sentence in the article, and plot a histogram with appropriate titles and axis labels of the scores.  From your histogram, what seems to be the most common range of scores (put the answer in a comment after your code)?"
   ]
  },
  {
   "cell_type": "code",
   "execution_count": null,
   "metadata": {},
   "outputs": [
    {
     "name": "stdout",
     "output_type": "stream",
     "text": [
      "Most common lemmas:\n",
      "Lemma: life, Frequency: 10\n",
      "Lemma: day, Frequency: 8\n",
      "Lemma: thing, Frequency: 8\n",
      "Lemma: week, Frequency: 8\n",
      "Lemma: summary, Frequency: 7\n"
     ]
    },
    {
     "data": {
      "image/png": "[encoded data removed]",
      "text/plain": [
       "<Figure size 800x500 with 1 Axes>"
      ]
     },
     "metadata": {},
     "output_type": "display_data"
    }
   ],
   "source": [
    "\n",
    "# Code from before already covered lemmas, just building the histogram here\n",
    "\n",
    "\n",
    "# Print the common tokens with their frequencies\n",
    "print(\"Most common lemmas:\")\n",
    "for lemma, freq in common_lemmas:\n",
    "    print(f\"Lemma: {lemma}, Frequency: {freq}\") \n",
    "\n",
    "# Plot histogram for lemma scores\n",
    "plt.figure(figsize=(8, 5))\n",
    "plt.hist(sentence_lemma_scores, bins=20, color='lightgreen', edgecolor='black')\n",
    "plt.title(\"Histogram of Sentence Lemma Scores\")\n",
    "plt.xlabel(\"Lemma Score\")\n",
    "plt.ylabel(\"Number of Sentences\")\n",
    "plt.show()\n",
    "\n",
    "# The most common range of scores appears to be between 0.0 and 0.1 for both token and lemma scores, as indicated by the peaks in the histograms.\n",
    "# This suggests that many sentences have low scores, possibly due to the presence of common words or phrases that do not contribute significantly to the overall sentiment or meaning of the article.\n",
    "# Which means I use too many words to say too little.\n",
    "\n"
   ]
  },
  {
   "cell_type": "markdown",
   "metadata": {},
   "source": [
    "## Question 7\n",
    "\n",
    "7. Using the histograms from questions 5 and 6, decide a \"cutoff\" score for tokens and lemmas such that fewer than half the sentences would have a score greater than the cutoff score.  Record the scores in this Markdown cell\n",
    "\n",
    "* Cutoff Score (tokens): .2\n",
    "* Cutoff Score (lemmas): .2\n",
    "\n",
    "Feel free to change these scores as you generate your summaries.  Ideally, we're shooting for at least 6 sentences for our summary, but don't want more than 10 (these numbers are rough estimates; they depend on the length of your article)."
   ]
  },
  {
   "cell_type": "markdown",
   "metadata": {},
   "source": [
    "## Question 8\n",
    "\n",
    "8. Create a summary of the article by going through every sentence in the article and adding it to an (initially) empty list if its score (based on tokens) is greater than the cutoff score you identified in question 8.  If your loop variable is named `sent`, you may find it easier to add `sent.text.strip()` to your list of sentences.  Print the summary (I would cleanly generate the summary text by `join`ing the strings in your list together with a space (`' '.join(sentence_list)`)."
   ]
  },
  {
   "cell_type": "code",
   "execution_count": 84,
   "metadata": {},
   "outputs": [
    {
     "name": "stdout",
     "output_type": "stream",
     "text": [
      "Number of sentences in the summary: 7\n",
      "\n",
      "Token-based Summary:\n",
      "\n",
      "Life only seems to get more hectic as you get older.\n",
      "Demetri - My list of 25 things a “good” person would do every day.\n",
      "It’s mostly white space, but the data is there.\n",
      "This is my life last week:\n",
      "Desktop screenshot showing a portion of my week’s dietary intake (summaries are after each day, not before)\n",
      "Through my initial results I have already learned a few things.\n",
      "I’ll use the Top 5 to outline those things below.\n"
     ]
    }
   ],
   "source": [
    "# Create a summary using token scores and the cutoff from question 8\n",
    "token_cutoff = 0.2\n",
    "sentence_list = [sent.text.strip() for sent, score in zip(doc.sents, sentence_token_scores) if score > token_cutoff]\n",
    "\n",
    "print(f\"Number of sentences in the summary: {len(sentence_list)}\\n\")\n",
    "\n",
    "# Print the summary\n",
    "summary_text = '\\n'.join(sentence_list)\n",
    "print(\"Token-based Summary:\\n\")\n",
    "print(summary_text)"
   ]
  },
  {
   "cell_type": "markdown",
   "metadata": {},
   "source": [
    "## Question 9\n",
    "\n",
    "9. Print the polarity score of your summary you generated with the token scores (with an appropriate label). Additionally, print the number of sentences in the summarized article."
   ]
  },
  {
   "cell_type": "code",
   "execution_count": 85,
   "metadata": {},
   "outputs": [
    {
     "name": "stdout",
     "output_type": "stream",
     "text": [
      "Polarity score of token-based summary: 0.19\n",
      "Number of sentences in the summarized article: 6\n"
     ]
    }
   ],
   "source": [
    "# Analyze the summary text using spaCy pipeline\n",
    "summary_doc = nlp(summary_text)\n",
    "\n",
    "# Get polarity score\n",
    "summary_polarity = round(summary_doc._.polarity, 2)\n",
    "\n",
    "# Get number of sentences in the summary\n",
    "num_summary_sentences = len(list(summary_doc.sents))\n",
    "\n",
    "print(f\"Polarity score of token-based summary: {summary_polarity}\")\n",
    "print(f\"Number of sentences in the summarized article: {num_summary_sentences}\")"
   ]
  },
  {
   "cell_type": "markdown",
   "metadata": {},
   "source": [
    "Interestingly summarizing the article changed its polarity score from 0.05 to 0.19, meaning it got slightly more positive when you take out boring bits. It's also not super comprehensible now, so there's that."
   ]
  },
  {
   "cell_type": "markdown",
   "metadata": {},
   "source": [
    "## Question 10\n",
    "\n",
    "10. Create a summary of the article by going through every sentence in the article and adding it to an (initially) empty list if its score (based on lemmas) is greater than the cutoff score you identified in question 8.  If your loop variable is named `sent`, you may find it easier to add `sent.text.strip()` to your list of sentences.  Print the summary (I would cleanly generate the summary text by `join`ing the strings in your list together with a space (`' '.join(sentence_list)`)."
   ]
  },
  {
   "cell_type": "code",
   "execution_count": 86,
   "metadata": {},
   "outputs": [
    {
     "name": "stdout",
     "output_type": "stream",
     "text": [
      "Number of sentences in the summary: 7\n",
      "\n",
      "Lemma-based Summary:\n",
      "\n",
      "Life only seems to get more hectic as you get older.\n",
      "Demetri - My list of 25 things a “good” person would do every day.\n",
      "This is my life last week:\n",
      "Desktop screenshot showing a portion of my week’s dietary intake (summaries are after each day, not before)\n",
      "Rather than include a screenshot of it I’ll just say that it summarizes every day with the number of Demetri goals completed, the dietary summary from each day, and  the number of days I worked out.\n",
      "Through my initial results I have already learned a few things.\n",
      "I’ll use the Top 5 to outline those things below.\n"
     ]
    }
   ],
   "source": [
    "# Create a summary using lemma scores and the cutoff from question 8\n",
    "lemma_cutoff = 0.2\n",
    "sentence_list = [sent.text.strip() for sent, score in zip(doc.sents, sentence_lemma_scores) if score > lemma_cutoff]\n",
    "\n",
    "print(f\"Number of sentences in the summary: {len(sentence_list)}\\n\")\n",
    "\n",
    "# Print the summary\n",
    "summary_text = '\\n'.join(sentence_list)\n",
    "print(\"Lemma-based Summary:\\n\")\n",
    "print(summary_text)"
   ]
  },
  {
   "cell_type": "markdown",
   "metadata": {},
   "source": [
    "## Question 11\n",
    "\n",
    "11. Print the polarity score of your summary you generated with the lemma scores (with an appropriate label). Additionally, print the number of sentences in the summarized article."
   ]
  },
  {
   "cell_type": "code",
   "execution_count": 87,
   "metadata": {},
   "outputs": [
    {
     "name": "stdout",
     "output_type": "stream",
     "text": [
      "Polarity score of lemma-based summary: 0.21\n",
      "Number of sentences in the summarized article: 6\n"
     ]
    }
   ],
   "source": [
    "# Analyze the summary text using spaCy pipeline\n",
    "summary_doc = nlp(summary_text)\n",
    "\n",
    "# Get polarity score\n",
    "summary_polarity = round(summary_doc._.polarity, 2)\n",
    "\n",
    "# Get number of sentences in the summary\n",
    "num_summary_sentences = len(list(summary_doc.sents))\n",
    "\n",
    "print(f\"Polarity score of lemma-based summary: {summary_polarity}\")\n",
    "print(f\"Number of sentences in the summarized article: {num_summary_sentences}\")"
   ]
  },
  {
   "cell_type": "markdown",
   "metadata": {},
   "source": [
    "I'm wondering if the discrepancy from 7 sentences shown above to the 6 output by the summarized article counter is due to one \"ineteresting\" sentence ending with a colon, rather than a period. This would explain why it dropped down upon re-analysis of the summary. "
   ]
  },
  {
   "cell_type": "markdown",
   "metadata": {},
   "source": [
    "## Question 12\n",
    "\n",
    "12.  Compare your polarity scores of your summaries to the polarity scores of the initial article.  Is there a difference?  Why do you think that may or may not be?.  Answer in this Markdown cell.  "
   ]
  },
  {
   "cell_type": "markdown",
   "metadata": {},
   "source": [
    "First, the scores:\n",
    "\n",
    "| Item                | Polarity |\n",
    "| ------------------- | -------- |\n",
    "| Original Article    | 0.05     |\n",
    "| Token-Based Summary | 0.19     |\n",
    "| Lemma-Based Summary | 0.21     |\n",
    "\n",
    "There is a difference - the shorter, summarized articles have a *higher* polarity. This means they are **less neutral**. If you take out sentences that aren't packed with interesting words and phrases you lose context. Context is necessary! Once you remove context, things become much more black and white.\n",
    "\n",
    "Interestingly, this lines up exactly with what we see in the age of Twitter. You limit Tweet length and force **context collapse** upon the readers, and they get increasing polarized. The meanings of the word \"polarized\" in this context is slightly different than it is in the original context, but it works in both its connotations here. The increased polarity score from removing content (the uninteresting sentences) makes that content likely to be literally more polarizing for people to read. It's like saying \"Pizza is the best food.\" rather than saying \"Pizza is the best food.  do, however, I understand and appreciate alternative points of view may exist on this topic."
   ]
  },
  {
   "cell_type": "markdown",
   "metadata": {},
   "source": [
    "## Question 13\n",
    "\n",
    "13. Based on your reading of the original article, which summary do you think is better (if there's a difference).  Why do you think this might be?"
   ]
  },
  {
   "cell_type": "markdown",
   "metadata": {},
   "source": [
    "In my case the summaries are *slightly* different. 6 of the 7 sentences provided in each summary are identical, however each contains one the other does not:\n",
    "\n",
    "The Token-Based summary includes the sentence: *It’s mostly white space, but the data is there.*\n",
    "The Lemma-Based summary includes the sentence: *Rather than include a screenshot of it I’ll just say that it summarizes every day with the number of Demetri goals completed, the dietary summary from each day, and  the number of days I worked out.*\n",
    "\n",
    "Subjectively, I'd say that both summaries are **not great**. Maybe I'm biased as the author, but the summaries of the articles created using this method are a bit all over the place. They make reference to images that aren't there. They are disjointed and weird. \n",
    "\n",
    "Having said that, the *lemma-based* summary does include a bit more of the \"gist\" of the article. I think in this case that's perhaps dumb luck, though. As I stated, neither did well.\n",
    "\n",
    "As for **why** these aren't great, I think this approach to summarizing text is *interesting*, but somewhat crude. Simply cherry picking sentences with a high number of interesting words isn't really doing any of the hard work of understanding what's being said, and thinking of more concise ways to say it. \n",
    "\n",
    "Perhaps we are spoiled in the age of LLMs - check this summary of the entire article from ChatGPT:\n",
    "\n",
    "> The blog post introduces the author's Life Tracking System (LTS), inspired by the idea that defining a problem is more important than rushing to solve it. Faced with the increasing complexity of adult life, the author designed the LTS to audit four key areas: Diet, Exercise, Money, and a personal values checklist called \"Demetri.\" The system uses a custom Google Form and automated spreadsheet scripts to make daily tracking efficient and insightful. Over the past week, the author successfully used the LTS and gathered meaningful data in all four areas. The result was a noticeable increase in awareness, productivity, and personal accountability. Key takeaways include surprising eating habits, the impact of soda, and how tracking drives better behavior. The post ends with a lighthearted quote and a promise of a less intense future update.\n",
    "\n",
    "Now *that's* a summary!"
   ]
  }
 ],
 "metadata": {
  "kernelspec": {
   "display_name": ".venv",
   "language": "python",
   "name": "python3"
  },
  "language_info": {
   "codemirror_mode": {
    "name": "ipython",
    "version": 3
   },
   "file_extension": ".py",
   "mimetype": "text/x-python",
   "name": "python",
   "nbconvert_exporter": "python",
   "pygments_lexer": "ipython3",
   "version": "3.13.1"
  }
 },
 "nbformat": 4,
 "nbformat_minor": 4
}
